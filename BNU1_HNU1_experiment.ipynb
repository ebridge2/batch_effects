{
 "cells": [
  {
   "cell_type": "code",
   "execution_count": 93,
   "metadata": {},
   "outputs": [],
   "source": [
    "from hyppo.ksample import KSample\n",
    "from combat import combat\n",
    "import pandas as pd\n",
    "import glob\n",
    "import os\n",
    "import graspy as gp\n",
    "import numpy as np\n",
    "from scipy.stats import zscore, rankdata"
   ]
  },
  {
   "cell_type": "code",
   "execution_count": 200,
   "metadata": {},
   "outputs": [],
   "source": [
    "def get_sub(fname):\n",
    "    stext = os.path.basename(fname).split('_')\n",
    "    return('{}_{}'.format(stext[1], stext[3]))\n",
    "\n",
    "def get_sub_pheno_dat(subid, scan, pheno_dat):\n",
    "    matches = pheno_dat.index[pheno_dat[\"SUBID\"] == int(subid)].tolist()\n",
    "    match = np.min(matches)\n",
    "    return(int(pheno_dat.iloc[match][\"SEX\"]))\n",
    "\n",
    "def apply_along_dataset(scs, dsets, fn):\n",
    "    scs_xfmd = np.zeros(scs.shape) \n",
    "    for dset in np.unique(dsets):\n",
    "        scs_xfmd[dsets == dset,:] = np.apply_along_axis(fn, 0, scs[dsets == dset,:])\n",
    "    return(scs_xfmd)\n",
    "\n",
    "def ptr(x):\n",
    "    x_ch = copy.deepcopy(x)\n",
    "    nz = x[x != 0]\n",
    "    x_rank = rankdata(nz)*2/(len(nz) + 1)\n",
    "    x_ch[x != 0] = x_rank\n",
    "    x_ch = (x_ch - np.min(x_ch))/(np.max(x_ch) - np.min(x_ch))\n",
    "    return(x_ch)"
   ]
  },
  {
   "cell_type": "code",
   "execution_count": 201,
   "metadata": {},
   "outputs": [],
   "source": [
    "fmri_dict = {}\n",
    "pheno_dat = {}\n",
    "\n",
    "for dataset in [\"BNU1\", \"HNU1\"]:\n",
    "    pheno_dat[dataset] = pd.read_csv('/data/corr/phenotypic/{}_phenotypic_data.csv'.format(dataset))\n",
    "    scan_dict = {}\n",
    "    sex_dict = []\n",
    "    dset_dir = os.path.join('/data/corr/{}/FSL_nff_nsc_gsr_des'.format(dataset), '*.ssv')\n",
    "    for f in glob.glob(dset_dir):\n",
    "        gr_dat = gp.utils.import_edgelist(f)\n",
    "        sub = get_sub(f)\n",
    "        scan_dict[sub] = gr_dat.flatten()\n",
    "        scansub = sub.split('_')\n",
    "        sex_dict.append(get_sub_pheno_dat(scansub[0], scansub[1], pheno_dat[dataset]))\n",
    "    fmri_dict[dataset] = {}\n",
    "    fmri_dict[dataset][\"scans\"] = np.vstack(list(scan_dict.values()))\n",
    "    fmri_dict[dataset][\"subs\"] = list(scan_dict.keys())\n",
    "    fmri_dict[dataset][\"sex\"] = sex_dict"
   ]
  },
  {
   "cell_type": "code",
   "execution_count": 202,
   "metadata": {},
   "outputs": [],
   "source": [
    "scans = np.vstack((fmri_dict[\"BNU1\"][\"scans\"], fmri_dict[\"HNU1\"][\"scans\"]))\n",
    "scans = scans[:,~np.all(scans == 0, axis=0)]\n",
    "scans.flags.writeable = False\n",
    "sex = np.array(fmri_dict[\"BNU1\"][\"sex\"] + fmri_dict[\"HNU1\"][\"sex\"])\n",
    "datasets = np.array([1 for i in range(0, fmri_dict[\"BNU1\"][\"scans\"].shape[0])] + \n",
    "                    [2 for i in range(0, fmri_dict[\"HNU1\"][\"scans\"].shape[0])])"
   ]
  },
  {
   "cell_type": "markdown",
   "metadata": {},
   "source": [
    "# Raw Graphs\n",
    "\n",
    "## Uncorrected"
   ]
  },
  {
   "cell_type": "code",
   "execution_count": 203,
   "metadata": {},
   "outputs": [],
   "source": [
    "eff_batch = KSample(\"DCorr\").test(scans[datasets == 1,:], scans[datasets == 2,:])"
   ]
  },
  {
   "cell_type": "code",
   "execution_count": 204,
   "metadata": {},
   "outputs": [],
   "source": [
    "eff_sex = KSample(\"DCorr\").test(scans[sex == 1,:], scans[sex == 2,:])"
   ]
  },
  {
   "cell_type": "code",
   "execution_count": 205,
   "metadata": {},
   "outputs": [
    {
     "data": {
      "text/plain": [
       "(0.08556028936106726, 2.93861984941599e-09)"
      ]
     },
     "execution_count": 205,
     "metadata": {},
     "output_type": "execute_result"
    }
   ],
   "source": [
    "eff_sex"
   ]
  },
  {
   "cell_type": "code",
   "execution_count": 206,
   "metadata": {},
   "outputs": [
    {
     "data": {
      "text/plain": [
       "(0.26217454597493495, 7.874182809594757e-25)"
      ]
     },
     "execution_count": 206,
     "metadata": {},
     "output_type": "execute_result"
    }
   ],
   "source": [
    "eff_batch"
   ]
  },
  {
   "cell_type": "markdown",
   "metadata": {},
   "source": [
    "## Combatted"
   ]
  },
  {
   "cell_type": "code",
   "execution_count": 207,
   "metadata": {},
   "outputs": [
    {
     "name": "stderr",
     "output_type": "stream",
     "text": [
      "found 2 batches\n",
      "found 0 numerical covariates...\n",
      "found 0 categorical variables:\t\n",
      "Standardizing Data across genes.\n",
      "Fitting L/S model and finding priors\n",
      "Finding parametric adjustments\n"
     ]
    },
    {
     "name": "stdout",
     "output_type": "stream",
     "text": [
      "Adjusting data\n"
     ]
    }
   ],
   "source": [
    "combat_scans = np.array(combat(pd.DataFrame(scans.T), datasets, model=None, numerical_covariates=None)).T"
   ]
  },
  {
   "cell_type": "code",
   "execution_count": 208,
   "metadata": {},
   "outputs": [],
   "source": [
    "eff_batch = KSample(\"DCorr\").test(combat_scans[datasets == 1,:], combat_scans[datasets == 2,:])"
   ]
  },
  {
   "cell_type": "code",
   "execution_count": 209,
   "metadata": {},
   "outputs": [],
   "source": [
    "eff_sex = KSample(\"DCorr\").test(combat_scans[sex == 1,:], combat_scans[sex == 2,:])"
   ]
  },
  {
   "cell_type": "code",
   "execution_count": 210,
   "metadata": {},
   "outputs": [
    {
     "data": {
      "text/plain": [
       "(-0.013280257169799038, 1.0)"
      ]
     },
     "execution_count": 210,
     "metadata": {},
     "output_type": "execute_result"
    }
   ],
   "source": [
    "eff_batch"
   ]
  },
  {
   "cell_type": "code",
   "execution_count": 211,
   "metadata": {},
   "outputs": [
    {
     "data": {
      "text/plain": [
       "(0.09274982834747669, 6.721249660559353e-10)"
      ]
     },
     "execution_count": 211,
     "metadata": {},
     "output_type": "execute_result"
    }
   ],
   "source": [
    "eff_sex"
   ]
  },
  {
   "cell_type": "code",
   "execution_count": null,
   "metadata": {},
   "outputs": [],
   "source": []
  },
  {
   "cell_type": "markdown",
   "metadata": {},
   "source": [
    "## Z-Scored"
   ]
  },
  {
   "cell_type": "code",
   "execution_count": 212,
   "metadata": {},
   "outputs": [],
   "source": [
    "zsc_scans = apply_along_dataset(scans, datasets, zscore)"
   ]
  },
  {
   "cell_type": "code",
   "execution_count": 213,
   "metadata": {},
   "outputs": [],
   "source": [
    "eff_batch = KSample(\"DCorr\").test(zsc_scans[datasets == 1,:], zsc_scans[datasets == 2,:])"
   ]
  },
  {
   "cell_type": "code",
   "execution_count": 214,
   "metadata": {},
   "outputs": [],
   "source": [
    "eff_sex = KSample(\"DCorr\").test(zsc_scans[sex == 1,:], zsc_scans[sex == 2,:])"
   ]
  },
  {
   "cell_type": "code",
   "execution_count": 215,
   "metadata": {},
   "outputs": [
    {
     "data": {
      "text/plain": [
       "(-0.027611235151630754, 1.0)"
      ]
     },
     "execution_count": 215,
     "metadata": {},
     "output_type": "execute_result"
    }
   ],
   "source": [
    "eff_batch"
   ]
  },
  {
   "cell_type": "code",
   "execution_count": 216,
   "metadata": {},
   "outputs": [
    {
     "data": {
      "text/plain": [
       "(0.08703107129080727, 2.1725752648207593e-09)"
      ]
     },
     "execution_count": 216,
     "metadata": {},
     "output_type": "execute_result"
    }
   ],
   "source": [
    "eff_sex"
   ]
  },
  {
   "cell_type": "markdown",
   "metadata": {},
   "source": [
    "## PTR"
   ]
  },
  {
   "cell_type": "code",
   "execution_count": 217,
   "metadata": {},
   "outputs": [
    {
     "data": {
      "text/plain": [
       "0.962954"
      ]
     },
     "execution_count": 217,
     "metadata": {},
     "output_type": "execute_result"
    }
   ],
   "source": [
    "scans.max()"
   ]
  },
  {
   "cell_type": "code",
   "execution_count": 218,
   "metadata": {},
   "outputs": [],
   "source": [
    "ptr_scans = apply_along_dataset(scans, datasets, ptr)"
   ]
  },
  {
   "cell_type": "code",
   "execution_count": 219,
   "metadata": {},
   "outputs": [],
   "source": [
    "eff_batch = KSample(\"DCorr\").test(ptr_scans[datasets == 1,:], ptr_scans[datasets == 2,:])"
   ]
  },
  {
   "cell_type": "code",
   "execution_count": 220,
   "metadata": {},
   "outputs": [],
   "source": [
    "eff_sex = KSample(\"DCorr\").test(ptr_scans[sex == 1,:], ptr_scans[sex == 2,:])"
   ]
  },
  {
   "cell_type": "code",
   "execution_count": 221,
   "metadata": {},
   "outputs": [
    {
     "data": {
      "text/plain": [
       "(-0.03235760957498605, 1.0)"
      ]
     },
     "execution_count": 221,
     "metadata": {},
     "output_type": "execute_result"
    }
   ],
   "source": [
    "eff_batch"
   ]
  },
  {
   "cell_type": "code",
   "execution_count": 222,
   "metadata": {},
   "outputs": [
    {
     "data": {
      "text/plain": [
       "(0.08914316929579671, 1.4083298279827456e-09)"
      ]
     },
     "execution_count": 222,
     "metadata": {},
     "output_type": "execute_result"
    }
   ],
   "source": [
    "eff_sex"
   ]
  },
  {
   "cell_type": "code",
   "execution_count": null,
   "metadata": {},
   "outputs": [],
   "source": []
  },
  {
   "cell_type": "markdown",
   "metadata": {},
   "source": [
    "# PTR'd Graphs\n",
    "\n",
    "## Uncorrected"
   ]
  },
  {
   "cell_type": "code",
   "execution_count": 223,
   "metadata": {},
   "outputs": [],
   "source": [
    "ptr_scans = np.apply_along_axis(ptr, 1, scans)"
   ]
  },
  {
   "cell_type": "code",
   "execution_count": 224,
   "metadata": {},
   "outputs": [],
   "source": [
    "eff_batch = KSample(\"DCorr\").test(ptr_scans[datasets == 1,:], ptr_scans[datasets == 2,:])"
   ]
  },
  {
   "cell_type": "code",
   "execution_count": 225,
   "metadata": {},
   "outputs": [],
   "source": [
    "eff_sex = KSample(\"DCorr\").test(ptr_scans[sex == 1,:], ptr_scans[sex == 2,:])"
   ]
  },
  {
   "cell_type": "code",
   "execution_count": 226,
   "metadata": {},
   "outputs": [
    {
     "data": {
      "text/plain": [
       "(0.08043148374437958, 8.433078526608922e-09)"
      ]
     },
     "execution_count": 226,
     "metadata": {},
     "output_type": "execute_result"
    }
   ],
   "source": [
    "eff_sex"
   ]
  },
  {
   "cell_type": "code",
   "execution_count": 227,
   "metadata": {},
   "outputs": [
    {
     "data": {
      "text/plain": [
       "(0.2482625481206262, 1.306452911145757e-23)"
      ]
     },
     "execution_count": 227,
     "metadata": {},
     "output_type": "execute_result"
    }
   ],
   "source": [
    "eff_batch"
   ]
  },
  {
   "cell_type": "markdown",
   "metadata": {},
   "source": [
    "## Combatted"
   ]
  },
  {
   "cell_type": "code",
   "execution_count": 228,
   "metadata": {},
   "outputs": [
    {
     "name": "stderr",
     "output_type": "stream",
     "text": [
      "found 2 batches\n",
      "found 0 numerical covariates...\n",
      "found 0 categorical variables:\t\n",
      "Standardizing Data across genes.\n",
      "Fitting L/S model and finding priors\n",
      "Finding parametric adjustments\n"
     ]
    },
    {
     "name": "stdout",
     "output_type": "stream",
     "text": [
      "Adjusting data\n"
     ]
    }
   ],
   "source": [
    "combat_scans = np.array(combat(pd.DataFrame(ptr_scans.T), datasets, model=None, numerical_covariates=None)).T"
   ]
  },
  {
   "cell_type": "code",
   "execution_count": 229,
   "metadata": {},
   "outputs": [],
   "source": [
    "eff_batch = KSample(\"DCorr\").test(combat_scans[datasets == 1,:], combat_scans[datasets == 2,:])"
   ]
  },
  {
   "cell_type": "code",
   "execution_count": 230,
   "metadata": {},
   "outputs": [],
   "source": [
    "eff_sex = KSample(\"DCorr\").test(combat_scans[sex == 1,:], combat_scans[sex == 2,:])"
   ]
  },
  {
   "cell_type": "code",
   "execution_count": 231,
   "metadata": {},
   "outputs": [
    {
     "data": {
      "text/plain": [
       "(-0.024406685867680224, 1.0)"
      ]
     },
     "execution_count": 231,
     "metadata": {},
     "output_type": "execute_result"
    }
   ],
   "source": [
    "eff_batch"
   ]
  },
  {
   "cell_type": "code",
   "execution_count": 232,
   "metadata": {},
   "outputs": [
    {
     "data": {
      "text/plain": [
       "(0.08592079984903656, 2.72889630867019e-09)"
      ]
     },
     "execution_count": 232,
     "metadata": {},
     "output_type": "execute_result"
    }
   ],
   "source": [
    "eff_sex"
   ]
  },
  {
   "cell_type": "markdown",
   "metadata": {},
   "source": [
    "## Z-Scored"
   ]
  },
  {
   "cell_type": "code",
   "execution_count": 233,
   "metadata": {},
   "outputs": [],
   "source": [
    "zsc_scans = apply_along_dataset(ptr_scans, datasets, zscore)"
   ]
  },
  {
   "cell_type": "code",
   "execution_count": 234,
   "metadata": {},
   "outputs": [],
   "source": [
    "eff_batch = KSample(\"DCorr\").test(zsc_scans[datasets == 1,:], zsc_scans[datasets == 2,:])"
   ]
  },
  {
   "cell_type": "code",
   "execution_count": 235,
   "metadata": {},
   "outputs": [],
   "source": [
    "eff_sex = KSample(\"DCorr\").test(zsc_scans[sex == 1,:], zsc_scans[sex == 2,:])"
   ]
  },
  {
   "cell_type": "code",
   "execution_count": 236,
   "metadata": {},
   "outputs": [
    {
     "data": {
      "text/plain": [
       "(-0.03656364831605591, 1.0)"
      ]
     },
     "execution_count": 236,
     "metadata": {},
     "output_type": "execute_result"
    }
   ],
   "source": [
    "eff_batch"
   ]
  },
  {
   "cell_type": "code",
   "execution_count": 237,
   "metadata": {},
   "outputs": [
    {
     "data": {
      "text/plain": [
       "(0.08691814842951945, 2.2235336819468597e-09)"
      ]
     },
     "execution_count": 237,
     "metadata": {},
     "output_type": "execute_result"
    }
   ],
   "source": [
    "eff_sex"
   ]
  },
  {
   "cell_type": "markdown",
   "metadata": {},
   "source": [
    "## PTR"
   ]
  },
  {
   "cell_type": "code",
   "execution_count": 92,
   "metadata": {},
   "outputs": [],
   "source": []
  },
  {
   "cell_type": "code",
   "execution_count": 238,
   "metadata": {},
   "outputs": [],
   "source": [
    "ptrptr_scans = apply_along_dataset(ptr_scans, datasets, zscore)"
   ]
  },
  {
   "cell_type": "code",
   "execution_count": 57,
   "metadata": {},
   "outputs": [],
   "source": [
    "eff_batch = KSample(\"DCorr\").test(ptrptr_scans[datasets == 1,:], ptrptr_scans[datasets == 2,:])"
   ]
  },
  {
   "cell_type": "code",
   "execution_count": 58,
   "metadata": {},
   "outputs": [],
   "source": [
    "eff_sex = KSample(\"DCorr\").test(ptrptr_scans[sex == 1,:], ptrptr_scans[sex == 2,:])"
   ]
  },
  {
   "cell_type": "code",
   "execution_count": 59,
   "metadata": {},
   "outputs": [
    {
     "data": {
      "text/plain": [
       "(0.24734251950415923, 1.5732197555338792e-23)"
      ]
     },
     "execution_count": 59,
     "metadata": {},
     "output_type": "execute_result"
    }
   ],
   "source": [
    "eff_batch"
   ]
  },
  {
   "cell_type": "code",
   "execution_count": 60,
   "metadata": {},
   "outputs": [
    {
     "data": {
      "text/plain": [
       "(0.08160897482923697, 6.619264566333888e-09)"
      ]
     },
     "execution_count": 60,
     "metadata": {},
     "output_type": "execute_result"
    }
   ],
   "source": [
    "eff_sex"
   ]
  },
  {
   "cell_type": "code",
   "execution_count": null,
   "metadata": {},
   "outputs": [],
   "source": []
  },
  {
   "cell_type": "code",
   "execution_count": null,
   "metadata": {},
   "outputs": [],
   "source": []
  },
  {
   "cell_type": "code",
   "execution_count": null,
   "metadata": {},
   "outputs": [],
   "source": []
  },
  {
   "cell_type": "code",
   "execution_count": null,
   "metadata": {},
   "outputs": [],
   "source": []
  },
  {
   "cell_type": "code",
   "execution_count": null,
   "metadata": {},
   "outputs": [],
   "source": []
  },
  {
   "cell_type": "code",
   "execution_count": null,
   "metadata": {},
   "outputs": [],
   "source": []
  },
  {
   "cell_type": "code",
   "execution_count": null,
   "metadata": {},
   "outputs": [],
   "source": []
  }
 ],
 "metadata": {
  "kernelspec": {
   "display_name": "batch",
   "language": "python",
   "name": "batch"
  },
  "language_info": {
   "codemirror_mode": {
    "name": "ipython",
    "version": 3
   },
   "file_extension": ".py",
   "mimetype": "text/x-python",
   "name": "python",
   "nbconvert_exporter": "python",
   "pygments_lexer": "ipython3",
   "version": "3.7.2"
  }
 },
 "nbformat": 4,
 "nbformat_minor": 4
}
